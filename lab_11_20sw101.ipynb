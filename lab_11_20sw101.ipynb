{
  "nbformat": 4,
  "nbformat_minor": 0,
  "metadata": {
    "colab": {
      "provenance": [],
      "authorship_tag": "ABX9TyMsCKzsENdD9q+2s4+W+Ft+",
      "include_colab_link": true
    },
    "kernelspec": {
      "name": "python3",
      "display_name": "Python 3"
    },
    "language_info": {
      "name": "python"
    }
  },
  "cells": [
    {
      "cell_type": "markdown",
      "metadata": {
        "id": "view-in-github",
        "colab_type": "text"
      },
      "source": [
        "<a href=\"https://colab.research.google.com/github/nayab-nisar/DS-A_Tasks/blob/main/lab_11_20sw101.ipynb\" target=\"_parent\"><img src=\"https://colab.research.google.com/assets/colab-badge.svg\" alt=\"Open In Colab\"/></a>"
      ]
    },
    {
      "cell_type": "code",
      "execution_count": null,
      "metadata": {
        "id": "TAQm2OW5oMR_"
      },
      "outputs": [],
      "source": [
        "import pandas as pd\n",
        "import numpy as np\n",
        "import matplotlib.pyplot as plt\n",
        "import seaborn as sns\n",
        "import random\n",
        "from sklearn.feature_extraction.text import TfidfVectorizer\n",
        "from sklearn.cluster import KMeans\n",
        "import helper"
      ]
    },
    {
      "cell_type": "code",
      "source": [
        "data = pd.read_csv('/content/sample_data/movies.csv')\n",
        "data.head()"
      ],
      "metadata": {
        "id": "-a4IQAaPpXJ3"
      },
      "execution_count": null,
      "outputs": []
    },
    {
      "cell_type": "code",
      "source": [
        "# Load the dataset\n",
        "data = pd.read_csv(\"/content/sample_data/movies.csv\")"
      ],
      "metadata": {
        "id": "IbqO1jcdpbqu"
      },
      "execution_count": null,
      "outputs": []
    },
    {
      "cell_type": "code",
      "source": [
        "#Filter movies with Comedy and Fantasy genres\n",
        "comedy_fantasy_movies = data[data['genres'].str.contains('Comedy') & data['genres'].str.contains('Fantasy')]"
      ],
      "metadata": {
        "id": "tZiJq6UopgJv"
      },
      "execution_count": null,
      "outputs": []
    },
    {
      "cell_type": "code",
      "source": [
        "# Filter movies with Comedy and Fantasy genres\n",
        "comedy_fantasy_movies = data[data['genres'].str.contains('Comedy') & data['genres'].str.contains('Fantasy')]"
      ],
      "metadata": {
        "id": "uXCVvEYwpl5A"
      },
      "execution_count": null,
      "outputs": []
    },
    {
      "cell_type": "code",
      "source": [
        "# Extract the movie titles\n",
        "movie_titles = comedy_fantasy_movies['title'].tolist()"
      ],
      "metadata": {
        "id": "MnEkTzZtpoVK"
      },
      "execution_count": null,
      "outputs": []
    },
    {
      "cell_type": "code",
      "source": [
        "tfidf_vectorizer = TfidfVectorizer(max_features=1000, stop_words='english')\n",
        "tfidf_matrix = tfidf_vectorizer.fit_transform(movie_titles)"
      ],
      "metadata": {
        "id": "yLBZbN_ppq3S"
      },
      "execution_count": null,
      "outputs": []
    },
    {
      "cell_type": "code",
      "source": [
        "# Perform K-means clustering\n",
        "k = 3  # You can change the number of clusters as needed\n",
        "kmeans = KMeans(n_clusters=k)\n",
        "kmeans.fit(tfidf_matrix)"
      ],
      "metadata": {
        "id": "CvQ_Po5rpupD"
      },
      "execution_count": null,
      "outputs": []
    },
    {
      "cell_type": "code",
      "source": [
        "# Add cluster labels to the dataset\n",
        "comedy_fantasy_movies['cluster'] = kmeans.labels_"
      ],
      "metadata": {
        "id": "hq5HsZsxpyOu"
      },
      "execution_count": null,
      "outputs": []
    },
    {
      "cell_type": "code",
      "source": [
        "# Print movies in each cluster\n",
        "for cluster_num in range(k):\n",
        "    cluster_movies = comedy_fantasy_movies[comedy_fantasy_movies['cluster'] == cluster_num]\n",
        "    print(f\"Cluster {cluster_num + 1}:\")\n",
        "    print(cluster_movies['title'].tolist())\n"
      ],
      "metadata": {
        "id": "jMCDiG27p2zR"
      },
      "execution_count": null,
      "outputs": []
    }
  ]
}